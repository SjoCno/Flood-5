{
 "cells": [
  {
   "cell_type": "markdown",
   "id": "6358f928",
   "metadata": {},
   "source": [
    "# Path of _multi-output_ model"
   ]
  },
  {
   "cell_type": "code",
   "execution_count": 1,
   "id": "20aba32c",
   "metadata": {},
   "outputs": [],
   "source": [
    "folder = \"CNN_multi_output models/\"\n",
    "saved_model = \"model_DIS_AUG_ts=48_02_02_24_112631\" + \".pth\"\n",
    "\n",
    "pre_trained_model = folder + saved_model"
   ]
  },
  {
   "cell_type": "markdown",
   "id": "e8088621",
   "metadata": {},
   "source": [
    "# Libraries"
   ]
  },
  {
   "cell_type": "code",
   "execution_count": 2,
   "id": "90661f76",
   "metadata": {},
   "outputs": [],
   "source": [
    "## Useful libraries\n",
    "import matplotlib.pyplot as plt\n",
    "import numpy as np\n",
    "import torch\n",
    "import torch.nn as nn\n",
    "import os\n",
    "import copy\n",
    "import pickle\n",
    "from urllib.request import urlretrieve\n",
    "from torch.utils.data import DataLoader\n",
    "from torch.utils.data.dataset import random_split\n",
    "from sklearn.preprocessing import MinMaxScaler\n",
    "from matplotlib.colors import TwoSlopeNorm\n",
    "from ipywidgets import interact, interactive, fixed, interact_manual\n",
    "import ipywidgets as widgets\n",
    "\n",
    "# Additional input\n",
    "import networkx as nx\n",
    "from tqdm import tqdm\n",
    "# !pip install torch_geometric\n",
    "from torch_geometric.data import Data\n",
    "# !pip install perlin-noise\n",
    "from perlin_noise import PerlinNoise\n",
    "import random\n",
    "from loader import load_dataset\n",
    "from datetime import datetime\n",
    "\n",
    "from cycler import cycler\n",
    "import seaborn as sns\n",
    "import time\n",
    "\n",
    "# Set the color scheme\n",
    "sns.set_theme()\n",
    "colors = ['#0076C2', '#EC6842', '#A50034', '#009B77', '#FFB81C', '#E03C31', '#6CC24A', '#EF60A3', '#0C2340', '#00B8C8', '#6F1D77']\n",
    "plt.rcParams['axes.prop_cycle'] = cycler(color=colors)\n",
    "\n",
    "device = torch.device('cuda' if torch.cuda.is_available() else 'cpu')\n",
    "\n",
    "from functions import *"
   ]
  },
  {
   "cell_type": "markdown",
   "id": "15094805",
   "metadata": {},
   "source": [
    "# Data"
   ]
  },
  {
   "cell_type": "code",
   "execution_count": 3,
   "id": "4e03bb86",
   "metadata": {},
   "outputs": [],
   "source": [
    "data_folder = 'raw_datasets/'\n",
    "train_dataset = 'DEM/'"
   ]
  },
  {
   "cell_type": "code",
   "execution_count": 4,
   "id": "9b7ab6f3",
   "metadata": {},
   "outputs": [
    {
     "name": "stdout",
     "output_type": "stream",
     "text": [
      "Training File exists\n",
      "Test File 1 exists\n",
      "Test File 2 exists\n"
     ]
    }
   ],
   "source": [
    "dataset_folder = data_folder\n",
    "n_sim = 20\n",
    "start_sim = 500\n",
    "dataset_trainname = 'grid_vxvy'\n",
    "dataset_testname1 = 'test1'\n",
    "dataset_testname2 = 'test2'\n",
    "\n",
    "datasets_folder = 'datasets'\n",
    "if not os.path.exists(datasets_folder):\n",
    "    os.makedirs(datasets_folder)\n",
    "    \n",
    "dataset_traindir = datasets_folder + '/train'\n",
    "dataset_testdir = datasets_folder + '/test'\n",
    "\n",
    "\n",
    "if os.path.exists(dataset_traindir + '/' + dataset_trainname + '.pkl'):\n",
    "    print('Training File exists')\n",
    "\n",
    "    \n",
    "if os.path.exists(dataset_testdir + '/' + dataset_testname1 + '.pkl'):\n",
    "    print('Test File 1 exists')\n",
    "else:\n",
    "    ##################### Use this code to create local pickle file #####################\n",
    "    pyg_dataset = create_grid_dataset(dataset_folder, n_sim=n_sim, start_sim=start_sim)\n",
    "    save_database(pyg_dataset, name=dataset_testname1, out_path=dataset_testdir)\n",
    "    \n",
    "if os.path.exists(dataset_testdir + '/' + dataset_testname2 + '.pkl'):\n",
    "    print('Test File 2 exists')\n",
    "else:\n",
    "    ##################### Use this code to create local pickle file #####################\n",
    "    pyg_dataset = create_grid_dataset(dataset_folder, n_sim=n_sim, start_sim=10000)\n",
    "    save_database(pyg_dataset, name=dataset_testname2, out_path=dataset_testdir)    \n",
    "\n",
    "    \n",
    "train_dataset = load_dataset(dataset_name=dataset_trainname, dataset_folder=dataset_traindir)\n",
    "test_dataset1 = load_dataset(dataset_name=dataset_testname1, dataset_folder=dataset_testdir)\n",
    "test_dataset2 = load_dataset(dataset_name=dataset_testname2, dataset_folder=dataset_testdir)"
   ]
  },
  {
   "cell_type": "code",
   "execution_count": 5,
   "id": "6da29e11",
   "metadata": {},
   "outputs": [],
   "source": [
    "# def normalize_dataset(dataset, scaler_DEM, scaler_WD):\n",
    "    \n",
    "#     min_DEM, max_DEM = scaler_DEM.data_min_[0], scaler_DEM.data_max_[0]\n",
    "#     min_WD, max_WD = scaler_WD.data_min_[0], scaler_WD.data_max_[0]\n",
    "#     normalized_dataset = []\n",
    "\n",
    "#     for idx in range(len(dataset)):\n",
    "#         DEM = dataset[idx]['DEM']\n",
    "#         WD = dataset[idx]['WD']\n",
    "#         norm_DEM = (DEM - min_DEM) / (max_DEM - min_DEM)\n",
    "#         norm_WD = (WD - min_WD) / (max_WD - min_WD)\n",
    "\n",
    "#         DEM = norm_DEM.reshape(64,64)\n",
    "#         WD = norm_WD[:,0].reshape(64,64)\n",
    "        \n",
    "#         temp_dict = {}\n",
    "#         temp_dict['Input'] = torch.stack((DEM, WD), dim=0)\n",
    "\n",
    "#         WD_transposed = norm_WD[:, 1:].reshape(64,64, -1)\n",
    "#         WD_transposed = WD_transposed.transpose(0, 2)\n",
    "#         WD_transposed = WD_transposed.transpose(1, 2)\n",
    "#         temp_dict['WD'] = WD_transposed\n",
    "    \n",
    "#         normalized_dataset.append(temp_dict)\n",
    "    \n",
    "#     return normalized_dataset"
   ]
  },
  {
   "cell_type": "code",
   "execution_count": 6,
   "id": "2c2288a7",
   "metadata": {},
   "outputs": [
    {
     "name": "stdout",
     "output_type": "stream",
     "text": [
      "Shape of the added training data: torch.Size([4096, 97])\n"
     ]
    }
   ],
   "source": [
    "# Choose between Velocity (VEL) and Discharge (DIS)\n",
    "inp = 'DIS'\n",
    "\n",
    "# Create velocity input data\n",
    "for idx in range(len(train_dataset)):\n",
    "    if inp == 'VEL':\n",
    "        train_dataset[idx]['VEL'] = torch.sqrt(train_dataset[idx]['VX']**2 + train_dataset[idx]['VY']**2)\n",
    "    else:\n",
    "        train_dataset[idx]['DIS'] = torch.sqrt((train_dataset[idx]['VX'] * train_dataset[idx]['WD'])**2 + (train_dataset[idx]['VY'] * train_dataset[idx]['WD'])**2)\n",
    "\n",
    "print(f\"Shape of the added training data: {train_dataset[idx][inp].shape}\")"
   ]
  },
  {
   "cell_type": "code",
   "execution_count": 7,
   "id": "60f7a130",
   "metadata": {},
   "outputs": [],
   "source": [
    "# Create velocity input data\n",
    "for idx in range(len(test_dataset1)):\n",
    "    if inp == 'VEL':\n",
    "        test_dataset1[idx]['VEL'] = torch.sqrt(test_dataset1[idx]['VX']**2 + test_dataset1[idx]['VY']**2)\n",
    "    else:\n",
    "        test_dataset1[idx]['DIS'] = torch.sqrt((test_dataset1[idx]['VX'] * test_dataset1[idx]['WD'])**2 + (test_dataset1[idx]['VY'] * test_dataset1[idx]['WD'])**2)\n"
   ]
  },
  {
   "cell_type": "code",
   "execution_count": 8,
   "id": "eb076ece",
   "metadata": {},
   "outputs": [],
   "source": [
    "# Create velocity input data\n",
    "for idx in range(len(test_dataset2)):\n",
    "    if inp == 'VEL':\n",
    "        test_dataset2[idx]['VEL'] = torch.sqrt(test_dataset2[idx]['VX']**2 + test_dataset2[idx]['VY']**2)\n",
    "    else:\n",
    "        test_dataset2[idx]['DIS'] = torch.sqrt((test_dataset2[idx]['VX'] * test_dataset2[idx]['WD'])**2 + (test_dataset2[idx]['VY'] * test_dataset2[idx]['WD'])**2)\n"
   ]
  },
  {
   "cell_type": "code",
   "execution_count": 9,
   "id": "a00b52fd",
   "metadata": {},
   "outputs": [],
   "source": [
    "def normalize_dataset(dataset, scaler_DEM, scaler_VEL, scaler_WD):\n",
    "    min_DEM, max_DEM = scaler_DEM.data_min_[0], scaler_DEM.data_max_[0]\n",
    "    min_VEL, max_VEL = scaler_VEL.data_min_[0], scaler_VEL.data_max_[0]\n",
    "    min_WD, max_WD = scaler_WD.data_min_[0], scaler_WD.data_max_[0]\n",
    "    normalized_dataset = []\n",
    "\n",
    "    for idx in range(len(dataset)):\n",
    "        DEM = dataset[idx]['DEM']\n",
    "        VEL = dataset[idx][inp]\n",
    "        WD = dataset[idx]['WD']\n",
    "        \n",
    "        # Normalize data\n",
    "        norm_DEM = (DEM - min_DEM) / (max_DEM - min_DEM)\n",
    "        norm_VEL = (VEL - min_VEL) / (max_VEL - min_VEL)\n",
    "        norm_WD = (WD - min_WD) / (max_WD - min_WD)\n",
    "\n",
    "        # Reshape inputs to grid_size\n",
    "        DEM = norm_DEM.reshape(64,64)\n",
    "        WD = norm_WD[:,0].reshape(64,64)\n",
    "        VEL = norm_VEL[:,0].reshape(64,64)\n",
    "\n",
    "        # Create input/output dict for every sample\n",
    "        temp_dict = {}\n",
    "        temp_dict['Input'] = torch.stack((DEM, WD, VEL), dim=0)\n",
    "\n",
    "        WD_transposed = norm_WD[:, 1:].reshape(64,64, -1)\n",
    "        WD_transposed = WD_transposed.transpose(0, 2)\n",
    "        WD_transposed = WD_transposed.transpose(1, 2) \n",
    "\n",
    "        # Use half of the timesteps\n",
    "        timesteps = np.arange(1, WD_transposed.shape[0], 2)\n",
    "        timesteps = torch.from_numpy(timesteps)\n",
    "        WD_halves = torch.index_select(WD_transposed, 0, timesteps)\n",
    "        \n",
    "        temp_dict['WD'] = WD_halves\n",
    "        normalized_dataset.append(temp_dict)\n",
    "\n",
    "    return normalized_dataset"
   ]
  },
  {
   "cell_type": "code",
   "execution_count": 10,
   "id": "7ae88044",
   "metadata": {},
   "outputs": [],
   "source": [
    "# Normalize the inputs and outputs using training dataset\n",
    "scaler_DEM = MinMaxScaler() # Can store DEM, VX, VY as one 'input' Scaler\n",
    "scaler_VEL = MinMaxScaler()\n",
    "scaler_WD = MinMaxScaler()\n",
    "\n",
    "for index in range(len(train_dataset)): # =80\n",
    "    scaler_DEM.partial_fit(train_dataset[index]['DEM'].reshape(-1, 1).cpu())\n",
    "    scaler_VEL.partial_fit(train_dataset[index][inp].reshape(-1, 1).cpu())\n",
    "    scaler_WD.partial_fit(train_dataset[index]['WD'].reshape(-1, 1).cpu())\n",
    "\n",
    "normalized_train_dataset = normalize_dataset(train_dataset, scaler_DEM, scaler_VEL, scaler_WD)"
   ]
  },
  {
   "cell_type": "code",
   "execution_count": 11,
   "id": "33416845",
   "metadata": {},
   "outputs": [],
   "source": [
    "# Split dataset into train, validation, and testing\n",
    "train_percnt = 0.8\n",
    "train_size = int(train_percnt * len(train_dataset))\n",
    "val_size = len(train_dataset) - train_size\n",
    "training_dataset, val_dataset = random_split(normalized_train_dataset, [train_size, val_size])"
   ]
  },
  {
   "cell_type": "markdown",
   "id": "0de280c1",
   "metadata": {},
   "source": [
    "# Model"
   ]
  },
  {
   "cell_type": "code",
   "execution_count": 12,
   "id": "07e04941",
   "metadata": {},
   "outputs": [
    {
     "data": {
      "text/plain": [
       "<All keys matched successfully>"
      ]
     },
     "execution_count": 12,
     "metadata": {},
     "output_type": "execute_result"
    }
   ],
   "source": [
    "class CNNBlock(nn.Module):\n",
    "    def __init__(self, in_channels, out_channels, kernel_size=3, padding=1, bias=False, batch_norm=True):\n",
    "        super().__init__()\n",
    "        \n",
    "        layers = [nn.Conv2d(in_channels, out_channels, kernel_size=kernel_size, padding=padding, bias=bias)]\n",
    "        if batch_norm:\n",
    "            layers.append(nn.BatchNorm2d(num_features=out_channels))\n",
    "        layers.append(nn.PReLU())\n",
    "        layers.append(nn.Conv2d(out_channels, out_channels, kernel_size=kernel_size, padding=padding, bias=bias))\n",
    "                \n",
    "        self.cnnblock = nn.Sequential(*layers)\n",
    "\n",
    "    def forward(self, x):\n",
    "        return self.cnnblock(x)\n",
    "\n",
    "class Encoder(nn.Module):\n",
    "    def __init__(self, channels=[32, 64, 128], kernel_size=3, padding=1, bias=False, batch_norm=True):\n",
    "        super().__init__()\n",
    "\n",
    "        self.enc_blocks = nn.ModuleList([\n",
    "            CNNBlock(channels[block], channels[block+1], kernel_size, padding, bias, \n",
    "                     batch_norm=batch_norm) \n",
    "            for block in range(len(channels)-1)]\n",
    "            )\n",
    "        self.pool = nn.MaxPool2d(kernel_size=2, stride=2)\n",
    "        \n",
    "    def forward(self, x):\n",
    "        outs = []\n",
    "        for block in self.enc_blocks:\n",
    "            x = block(x)\n",
    "            outs.append(x)\n",
    "            x = self.pool(x)\n",
    "        return outs\n",
    "\n",
    "class Decoder(nn.Module):\n",
    "    def __init__(self, channels=[128, 64, 32], kernel_size=3, padding=1, bias=False, batch_norm=True):\n",
    "        super().__init__()\n",
    "        self.channels = channels\n",
    "        self.upconvs = nn.ModuleList([\n",
    "            nn.ConvTranspose2d(channels[block], channels[block+1], kernel_size=2, padding=0, stride=2) \n",
    "            for block in range(len(channels)-1)]\n",
    "            )\n",
    "        self.dec_blocks = nn.ModuleList([\n",
    "            CNNBlock(channels[block], channels[block+1], kernel_size, padding, bias, \n",
    "                     batch_norm=batch_norm)\n",
    "             for block in range(len(channels)-1)]\n",
    "             )\n",
    "        \n",
    "    def forward(self, x, x_skips):\n",
    "        for i in range(len(x_skips)):\n",
    "            x = self.upconvs[i](x)\n",
    "            x = torch.cat((x, x_skips[-(1+i)]), dim=1)\n",
    "            x = self.dec_blocks[i](x)\n",
    "\n",
    "        x = self.dec_blocks[-1](x)\n",
    "        return x\n",
    "    \n",
    "class CNN(nn.Module):\n",
    "    def __init__(self, node_features, out_dim=48, n_downsamples=3, initial_hid_dim=64, batch_norm=True, \n",
    "                 bias=True):\n",
    "        super(CNN, self).__init__()\n",
    "        hidden_channels = [initial_hid_dim*2**i for i in range(n_downsamples)]\n",
    "        encoder_channels = [node_features]+hidden_channels\n",
    "        decoder_channels = list(reversed(hidden_channels))+[out_dim]\n",
    "\n",
    "        self.encoder = Encoder(encoder_channels, kernel_size=3, padding=1, \n",
    "                               bias=bias, batch_norm=batch_norm)\n",
    "        self.decoder = Decoder(decoder_channels, kernel_size=3, padding=1, \n",
    "                               bias=bias, batch_norm=batch_norm)\n",
    "        \n",
    "    def forward(self, x):\n",
    "        x = self.encoder(x)\n",
    "        x = self.decoder(x[-1], x[:-1])\n",
    "        x = nn.Sigmoid()(x)\n",
    "        return x\n",
    "    \n",
    "node_features = 3\n",
    "model = CNN(node_features=node_features, n_downsamples=4, initial_hid_dim=32, \n",
    "            batch_norm=True, bias=True)\n",
    "model.load_state_dict(torch.load(pre_trained_model))"
   ]
  },
  {
   "cell_type": "markdown",
   "id": "a8211ff6",
   "metadata": {},
   "source": [
    "# Get losses"
   ]
  },
  {
   "cell_type": "code",
   "execution_count": 17,
   "id": "6a0c2fc6",
   "metadata": {},
   "outputs": [],
   "source": [
    "def get_errors(model, loader, batch_size, device='cpu'):\n",
    "    model.to(device)\n",
    "    model.eval() # specifies that the model is in evaluation mode\n",
    "    \n",
    "    losses = []\n",
    "    \n",
    "    with torch.no_grad():\n",
    "        for batch in loader:\n",
    "            x = batch['Input']\n",
    "            y = batch['WD']  # [:,:,:,1]\n",
    "\n",
    "            # Model prediction\n",
    "            preds = model(x)\n",
    "\n",
    "            # MSE loss function\n",
    "            loss = nn.MSELoss()(preds, y)\n",
    "            losses.append(loss.cpu().detach())\n",
    "\n",
    "    losses = np.array(losses)\n",
    "\n",
    "    return losses"
   ]
  },
  {
   "cell_type": "code",
   "execution_count": 18,
   "id": "ce2ad6c3",
   "metadata": {},
   "outputs": [],
   "source": [
    "normalized_test_dataset = normalize_dataset(test_dataset1, scaler_DEM, scaler_VEL, scaler_WD)\n",
    "normalized_test2_dataset = normalize_dataset(test_dataset2, scaler_DEM, scaler_VEL, scaler_WD)"
   ]
  },
  {
   "cell_type": "code",
   "execution_count": 19,
   "id": "954ac64f",
   "metadata": {},
   "outputs": [],
   "source": [
    "# batch_size = 1\n",
    "# test_loader = DataLoader(normalized_train_dataset, batch_size=batch_size, shuffle=False)\n",
    "\n",
    "batch_size = 1\n",
    "train_loader = DataLoader(normalized_train_dataset, batch_size=batch_size, shuffle=False)\n",
    "test_loader = DataLoader(normalized_test_dataset, batch_size=batch_size, shuffle=False)\n",
    "test2_loader = DataLoader(normalized_test2_dataset, batch_size=batch_size, shuffle=False)"
   ]
  },
  {
   "cell_type": "code",
   "execution_count": 20,
   "id": "77ec7d50",
   "metadata": {},
   "outputs": [],
   "source": [
    "# Model validation\n",
    "train_loss = get_errors(model, train_loader, batch_size=batch_size, device=device)\n",
    "test_loss = get_errors(model, test_loader, batch_size=batch_size, device=device)\n",
    "test2_loss = get_errors(model, test2_loader, batch_size=batch_size, device=device)"
   ]
  },
  {
   "cell_type": "code",
   "execution_count": 29,
   "id": "9b8e7131",
   "metadata": {},
   "outputs": [
    {
     "name": "stdout",
     "output_type": "stream",
     "text": [
      "0.00045189046\n",
      "0.0015610305\n",
      "0.0055261506\n"
     ]
    }
   ],
   "source": [
    "print(np.mean(train_loss))\n",
    "print(np.mean(test_loss))\n",
    "print(np.mean(test2_loss))\n"
   ]
  },
  {
   "cell_type": "markdown",
   "id": "4988e69d",
   "metadata": {},
   "source": [
    "# Visualize errors"
   ]
  },
  {
   "cell_type": "code",
   "execution_count": 21,
   "id": "be1d25cf",
   "metadata": {},
   "outputs": [],
   "source": [
    "# # plt.hist(test_loss, bins=20, edgecolor='black')\n",
    "\n",
    "# fig, axs = plt.subplots(1, 3, figsize=(17,5))\n",
    "# axs[0].hist(test_loss, edgecolor='black')\n",
    "\n",
    "\n",
    "# axs[0].set_title('Errors for training dataset')\n",
    "# axs[0].xlabel('Errors')\n",
    "# axs[0].ylabel('Frequency')\n",
    "# axs[0].xlim(0.000, 0.018)\n",
    "# # plt.ylim(0, 20)"
   ]
  },
  {
   "cell_type": "code",
   "execution_count": 23,
   "id": "70741b83",
   "metadata": {},
   "outputs": [
    {
     "data": {
      "image/png": "[encoded data removed]",
      "text/plain": [
       "<Figure size 1500x500 with 3 Axes>"
      ]
     },
     "metadata": {},
     "output_type": "display_data"
    }
   ],
   "source": [
    "plt.figure(figsize=(15,5))\n",
    "\n",
    "plt.subplot(131)\n",
    "plt.hist(train_loss, bins=20, edgecolor='black')\n",
    "plt.title('Errors for training dataset')\n",
    "plt.xlabel('Errors')\n",
    "plt.ylabel('Frequency')\n",
    "plt.xlim(0.000, 0.012)\n",
    "#plt.ylim(0, 20)\n",
    "\n",
    "plt.subplot(132)\n",
    "plt.hist(test_loss, bins=20, edgecolor='black')\n",
    "plt.title('Errors for testing dataset 1')\n",
    "plt.xlabel('Errors')\n",
    "plt.ylabel('Frequency')\n",
    "plt.xlim(0.000, 0.012)\n",
    "#plt.ylim(0, 20)\n",
    "\n",
    "plt.subplot(133)\n",
    "plt.hist(test2_loss, bins=20, edgecolor='black')\n",
    "plt.title('Errors for testing dataset 2')\n",
    "plt.xlabel('Errors')\n",
    "plt.ylabel('Frequency')\n",
    "plt.xlim(0.000, 0.012);\n",
    "#plt.ylim(0, 20)"
   ]
  },
  {
   "cell_type": "markdown",
   "id": "e9f2d340",
   "metadata": {},
   "source": [
    "# Visualize"
   ]
  },
  {
   "cell_type": "code",
   "execution_count": null,
   "id": "0fad6ebd",
   "metadata": {},
   "outputs": [],
   "source": [
    "# select one sample\n",
    "data_id = 70\n",
    "x = normalized_train_dataset[data_id]['Input'].reshape(1, 3, 64, 64)\n",
    "\n",
    "pred_WD = model(x).detach()\n",
    "WD = normalized_train_dataset[data_id]['WD'][-1,:,:]\n",
    "pred_last_WD = pred_WD[:,-1,:,:]\n",
    "\n",
    "\n",
    "show_WD = WD.reshape(64,64)\n",
    "show_pred_WD = pred_last_WD.reshape(64,64)\n",
    "\n",
    "number_grids = 64"
   ]
  },
  {
   "cell_type": "code",
   "execution_count": null,
   "id": "850f7c05",
   "metadata": {},
   "outputs": [],
   "source": [
    "fig, axs = plt.subplots(1, 2, figsize=(10, 5))\n",
    "\n",
    "axs[0].imshow(show_WD.reshape(number_grids,number_grids), cmap='Blues_r', origin='lower')\n",
    "axs[0].set_title('WD target')\n",
    "\n",
    "axs[1].imshow(show_pred_WD.reshape(number_grids,number_grids), cmap='Blues_r', origin='lower')\n",
    "axs[1].set_title('WD prediction')\n",
    "plt.show()"
   ]
  },
  {
   "cell_type": "code",
   "execution_count": 26,
   "id": "76ff3112",
   "metadata": {},
   "outputs": [
    {
     "data": {
      "application/vnd.jupyter.widget-view+json": {
       "model_id": "0e887abdbcf34cbc80c57dd0ef5a328f",
       "version_major": 2,
       "version_minor": 0
      },
      "text/plain": [
       "interactive(children=(IntSlider(value=0, description='w', max=47), Dropdown(description='s', options=(0, 1, 2,…"
      ]
     },
     "metadata": {},
     "output_type": "display_data"
    }
   ],
   "source": [
    "def update(w, s):\n",
    "    '''\n",
    "    Function that creates an interactive plot for the four variables\n",
    "    w: Timestep\n",
    "    s: Sample\n",
    "    \n",
    "    '''\n",
    "    fig, axs = plt.subplots(1, 4, figsize=(17,5))\n",
    "    \n",
    "    x = normalized_test_dataset[s]['Input'].reshape(1, 3, 64, 64)\n",
    "    WD = normalized_test_dataset[s]['WD'][w,:,:]\n",
    "\n",
    "    DEM = x[:,0]\n",
    "    \n",
    "    # predict the WD\n",
    "    pred_WD = model(x).detach()\n",
    "\n",
    "    # show_x = x.reshape(64,64)\n",
    "    WD = WD.reshape(64,64)\n",
    "\n",
    "    pred_last_WD = pred_WD[:,w,:,:]\n",
    "    show_pred_WD = pred_last_WD.reshape(64,64)\n",
    "\n",
    "    diff_FAT = WD - show_pred_WD\n",
    "    max_FAT = max(show_pred_WD.max(), WD.max())\n",
    "    max_diff = max(diff_FAT.max(), -diff_FAT.min())\n",
    "\n",
    "    axs[0].imshow(DEM.squeeze(), cmap='terrain', origin='lower')\n",
    "    axs[1].imshow(WD, vmin = 0, vmax=max_FAT, cmap='Blues_r', origin='lower')\n",
    "    axs[2].imshow(show_pred_WD, vmin = 0, vmax=max_FAT, cmap='Blues_r', origin='lower')\n",
    "    axs[3].imshow(diff_FAT, vmin =-max_diff, vmax=max_diff, cmap='RdBu', origin='lower')\n",
    "    plt.colorbar(plt.cm.ScalarMappable(norm=plt.Normalize(vmin = DEM.min(), vmax=DEM.max()),\n",
    "                                cmap='terrain'), fraction=0.05, shrink=0.9, ax=axs[0])\n",
    "    plt.colorbar(plt.cm.ScalarMappable(norm=plt.Normalize(vmin = 0, vmax=max_FAT),\n",
    "                                cmap='Blues_r'), fraction=0.05, shrink=0.9, ax=axs[1])\n",
    "    plt.colorbar(plt.cm.ScalarMappable(norm=plt.Normalize(vmin = 0, vmax=max_FAT),\n",
    "                                cmap='Blues_r'), fraction=0.05, shrink=0.9, ax=axs[2])\n",
    "    plt.colorbar(plt.cm.ScalarMappable(norm=TwoSlopeNorm(vmin=-max_diff, vmax=max_diff, vcenter=0),\n",
    "                                cmap='RdBu'), fraction=0.05, shrink=0.9, ax=axs[3])\n",
    "    \n",
    "    for ax in axs:\n",
    "        ax.axis('off')\n",
    "\n",
    "    axs[0].set_title('DEM')\n",
    "    axs[1].set_title(f'WD target, t={(w+1)*2}')\n",
    "    axs[2].set_title(f'WD prediction t={(w+1)*2}')\n",
    "    axs[3].set_title(f'WD difference, t={(w+1)*2}')\n",
    "    plt.tight_layout()\n",
    "    plt.show()\n",
    "\n",
    "interact(update, w=widgets.IntSlider(min=0, max=normalized_test_dataset[0]['WD'].shape[0]-1, step=1, value=0), s=np.arange(0, n_sim-1));"
   ]
  },
  {
   "cell_type": "code",
   "execution_count": null,
   "id": "cf35b551",
   "metadata": {},
   "outputs": [],
   "source": []
  }
 ],
 "metadata": {
  "kernelspec": {
   "display_name": "Python 3 (ipykernel)",
   "language": "python",
   "name": "python3"
  },
  "language_info": {
   "codemirror_mode": {
    "name": "ipython",
    "version": 3
   },
   "file_extension": ".py",
   "mimetype": "text/x-python",
   "name": "python",
   "nbconvert_exporter": "python",
   "pygments_lexer": "ipython3",
   "version": "3.9.17"
  }
 },
 "nbformat": 4,
 "nbformat_minor": 5
}
