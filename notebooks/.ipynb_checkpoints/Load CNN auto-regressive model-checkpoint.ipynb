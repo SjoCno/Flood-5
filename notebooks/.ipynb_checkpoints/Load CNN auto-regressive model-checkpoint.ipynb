{
 "cells": [
  {
   "cell_type": "markdown",
   "id": "a9e8f3af",
   "metadata": {},
   "source": [
    "# Path of _autoregressive_ model"
   ]
  },
  {
   "cell_type": "code",
   "execution_count": 1,
   "id": "44d98906",
   "metadata": {},
   "outputs": [],
   "source": [
    "folder = \"CNN_auto_regressive models/\"\n",
    "saved_model = \"autoregmodel_v1_t48_lr_0.0005_epochs_200_batches_16\" + \".pth\"\n",
    "\n",
    "pre_trained_model = folder + saved_model"
   ]
  },
  {
   "cell_type": "markdown",
   "id": "6358f928",
   "metadata": {},
   "source": [
    "# Libraries"
   ]
  },
  {
   "cell_type": "code",
   "execution_count": 2,
   "id": "90661f76",
   "metadata": {},
   "outputs": [],
   "source": [
    "## Useful libraries\n",
    "import matplotlib.pyplot as plt\n",
    "import numpy as np\n",
    "import torch\n",
    "import torch.nn as nn\n",
    "import os\n",
    "import copy\n",
    "import pickle\n",
    "from urllib.request import urlretrieve\n",
    "from torch.utils.data import DataLoader\n",
    "from torch.utils.data.dataset import random_split\n",
    "from sklearn.preprocessing import MinMaxScaler\n",
    "from matplotlib.colors import TwoSlopeNorm\n",
    "from ipywidgets import interact, interactive, fixed, interact_manual\n",
    "import ipywidgets as widgets\n",
    "\n",
    "# Additional input\n",
    "import networkx as nx\n",
    "from tqdm import tqdm\n",
    "# !pip install torch_geometric\n",
    "from torch_geometric.data import Data\n",
    "# !pip install perlin-noise\n",
    "from perlin_noise import PerlinNoise\n",
    "import random\n",
    "from loader import load_dataset\n",
    "from datetime import datetime\n",
    "\n",
    "from cycler import cycler\n",
    "import seaborn as sns\n",
    "import time\n",
    "\n",
    "# Set the color scheme\n",
    "sns.set_theme()\n",
    "colors = ['#0076C2', '#EC6842', '#A50034', '#009B77', '#FFB81C', '#E03C31', '#6CC24A', '#EF60A3', '#0C2340', '#00B8C8', '#6F1D77']\n",
    "plt.rcParams['axes.prop_cycle'] = cycler(color=colors)\n",
    "\n",
    "device = torch.device('cuda' if torch.cuda.is_available() else 'cpu')\n",
    "\n",
    "from functions import *"
   ]
  },
  {
   "cell_type": "markdown",
   "id": "15094805",
   "metadata": {},
   "source": [
    "# Data"
   ]
  },
  {
   "cell_type": "code",
   "execution_count": 3,
   "id": "4e03bb86",
   "metadata": {},
   "outputs": [],
   "source": [
    "data_folder = 'raw_datasets/'\n",
    "train_dataset = 'DEM/'"
   ]
  },
  {
   "cell_type": "code",
   "execution_count": 4,
   "id": "9b7ab6f3",
   "metadata": {},
   "outputs": [],
   "source": [
    "dataset_folder = data_folder\n",
    "n_sim = 80\n",
    "start_sim = 1\n",
    "dataset_name = 'grid'\n",
    "\n",
    "datasets_folder = 'datasets'\n",
    "if not os.path.exists(datasets_folder):\n",
    "    os.makedirs(datasets_folder)\n",
    "    \n",
    "dataset_dir = datasets_folder + '/train'\n",
    "\n",
    "\n",
    "##################### Use this code to create local pickle file #####################\n",
    "#pyg_dataset = create_grid_dataset(dataset_folder, n_sim=n_sim)\n",
    "#save_database(pyg_dataset, name=dataset_name, out_path=dataset_dir)\n",
    "\n",
    "train_dataset = load_dataset(dataset_name=dataset_name, dataset_folder=dataset_dir)"
   ]
  },
  {
   "cell_type": "code",
   "execution_count": 5,
   "id": "91137829",
   "metadata": {},
   "outputs": [],
   "source": [
    "n_sim_test = 20\n",
    "start_sim = 500\n",
    "dataset_name = 'grid_test'\n",
    "\n",
    "datasets_folder = 'datasets'\n",
    "if not os.path.exists(datasets_folder):\n",
    "    os.makedirs(datasets_folder)\n",
    "\n",
    "dataset_dir = datasets_folder + '/test'\n",
    "\n",
    "##################### Use this code to create local pickle file #####################\n",
    "#pyg_dataset = create_grid_dataset(dataset_folder, n_sim=n_sim_test, start_sim=start_sim)\n",
    "#save_database(pyg_dataset, name=dataset_name, out_path=dataset_dir)\n",
    "\n",
    "test_dataset = load_dataset(dataset_name=dataset_name, dataset_folder=dataset_dir)"
   ]
  },
  {
   "cell_type": "code",
   "execution_count": 6,
   "id": "7b08c19f",
   "metadata": {},
   "outputs": [],
   "source": [
    "n_sim_test = 20\n",
    "start_sim = 10001\n",
    "dataset_name = 'grid_test2'\n",
    "\n",
    "datasets_folder = 'datasets'\n",
    "if not os.path.exists(datasets_folder):\n",
    "    os.makedirs(datasets_folder)\n",
    "\n",
    "dataset_dir = datasets_folder + '/test'\n",
    "\n",
    "##################### Use this code to create local pickle file #####################\n",
    "#pyg_dataset = create_grid_dataset(dataset_folder, n_sim=n_sim_test, start_sim=start_sim)\n",
    "#save_database(pyg_dataset, name=dataset_name, out_path=dataset_dir)\n",
    "\n",
    "test2_dataset = load_dataset(dataset_name=dataset_name, dataset_folder=dataset_dir)"
   ]
  },
  {
   "cell_type": "code",
   "execution_count": 7,
   "id": "6da29e11",
   "metadata": {},
   "outputs": [],
   "source": [
    "def normalize_dataset(dataset, scaler_DEM, scaler_WD):\n",
    "    \n",
    "    min_DEM, max_DEM = scaler_DEM.data_min_[0], scaler_DEM.data_max_[0]\n",
    "    min_WD, max_WD = scaler_WD.data_min_[0], scaler_WD.data_max_[0]\n",
    "    normalized_dataset = []\n",
    "\n",
    "    for idx in range(len(dataset)):\n",
    "        DEM = dataset[idx]['DEM']\n",
    "        WD = dataset[idx]['WD']\n",
    "        norm_DEM = (DEM - min_DEM) / (max_DEM - min_DEM)\n",
    "        norm_WD = (WD - min_WD) / (max_WD - min_WD)\n",
    "\n",
    "        DEM = norm_DEM.reshape(64,64)\n",
    "        WD = norm_WD[:,0].reshape(64,64)\n",
    "        \n",
    "        temp_dict = {}\n",
    "        temp_dict['Input'] = torch.stack((DEM, WD), dim=0)\n",
    "\n",
    "        WD_transposed = norm_WD[:, 1:].reshape(64,64, -1)\n",
    "        WD_transposed = WD_transposed.transpose(0, 2)\n",
    "        WD_transposed = WD_transposed.transpose(1, 2)\n",
    "        temp_dict['WD'] = WD_transposed\n",
    "    \n",
    "        normalized_dataset.append(temp_dict)\n",
    "    \n",
    "    return normalized_dataset"
   ]
  },
  {
   "cell_type": "code",
   "execution_count": 8,
   "id": "7ae88044",
   "metadata": {},
   "outputs": [],
   "source": [
    "# Normalize the inputs and outputs using training dataset\n",
    "scaler_DEM = MinMaxScaler() # Can store DEM, VX, VY as one 'input' Scaler\n",
    "scaler_WD = MinMaxScaler()\n",
    "\n",
    "for index in range(len(train_dataset)): # =80\n",
    "    scaler_DEM.partial_fit(train_dataset[index]['DEM'].reshape(-1, 1).cpu())\n",
    "    scaler_WD.partial_fit(train_dataset[index]['WD'].reshape(-1, 1).cpu())\n",
    "\n",
    "normalized_train_dataset = normalize_dataset(train_dataset, scaler_DEM, scaler_WD)\n",
    "\n",
    "# Normalize the inputs and outputs for test dataset 1\n",
    "for index in range(len(test_dataset)): # =20\n",
    "    scaler_DEM.partial_fit(test_dataset[index]['DEM'].reshape(-1, 1).cpu())\n",
    "    scaler_WD.partial_fit(test_dataset[index]['WD'].reshape(-1, 1).cpu())\n",
    "normalized_test_dataset = normalize_dataset(test_dataset, scaler_DEM, scaler_WD)\n",
    "\n",
    "# Normalize the inputs and outputs for test dataset 2\n",
    "for index in range(len(test2_dataset)): # =20\n",
    "    scaler_DEM.partial_fit(test2_dataset[index]['DEM'].reshape(-1, 1).cpu())\n",
    "    scaler_WD.partial_fit(test2_dataset[index]['WD'].reshape(-1, 1).cpu())\n",
    "normalized_test2_dataset = normalize_dataset(test2_dataset, scaler_DEM, scaler_WD)"
   ]
  },
  {
   "cell_type": "code",
   "execution_count": 9,
   "id": "33416845",
   "metadata": {},
   "outputs": [],
   "source": [
    "# Split dataset into train, validation, and testing\n",
    "train_percnt = 0.8\n",
    "train_size = int(train_percnt * len(train_dataset))\n",
    "val_size = len(train_dataset) - train_size\n",
    "training_dataset, val_dataset = random_split(normalized_train_dataset, [train_size, val_size])"
   ]
  },
  {
   "cell_type": "markdown",
   "id": "0de280c1",
   "metadata": {},
   "source": [
    "# Model"
   ]
  },
  {
   "cell_type": "code",
   "execution_count": 10,
   "id": "07e04941",
   "metadata": {},
   "outputs": [],
   "source": [
    "class CNNBlock(nn.Module):\n",
    "    def __init__(self, in_channels, out_channels, kernel_size=3, padding=1, bias=False, batch_norm=True):\n",
    "        super().__init__()\n",
    "\n",
    "        layers = [nn.Conv2d(in_channels, out_channels, kernel_size=kernel_size, padding=padding, bias=bias)]\n",
    "        if batch_norm:\n",
    "            layers.append(nn.BatchNorm2d(num_features=out_channels))\n",
    "        layers.append(nn.PReLU())\n",
    "        layers.append(nn.Conv2d(out_channels, out_channels, kernel_size=kernel_size, padding=padding, bias=bias))\n",
    "\n",
    "        self.cnnblock = nn.Sequential(*layers)\n",
    "\n",
    "    def forward(self, x):\n",
    "        return self.cnnblock(x)\n",
    "\n",
    "class Encoder(nn.Module):\n",
    "    def __init__(self, channels=[32, 64, 128], kernel_size=3, padding=1, bias=False, batch_norm=True):\n",
    "        super().__init__()\n",
    "\n",
    "        self.enc_blocks = nn.ModuleList([\n",
    "            CNNBlock(channels[block], channels[block+1], kernel_size, padding, bias,\n",
    "                     batch_norm=batch_norm)\n",
    "            for block in range(len(channels)-1)]\n",
    "            )\n",
    "        self.pool = nn.MaxPool2d(kernel_size=2, stride=2)\n",
    "\n",
    "    def forward(self, x):\n",
    "        outs = []\n",
    "        for block in self.enc_blocks:\n",
    "            x = block(x)\n",
    "            outs.append(x)\n",
    "            x = self.pool(x)\n",
    "        return outs\n",
    "\n",
    "class Decoder(nn.Module):\n",
    "    def __init__(self, channels=[128, 64, 32], kernel_size=3, padding=1, bias=False, batch_norm=True):\n",
    "        super().__init__()\n",
    "        self.channels = channels\n",
    "        self.upconvs = nn.ModuleList([\n",
    "            nn.ConvTranspose2d(channels[block], channels[block+1], kernel_size=2, padding=0, stride=2)\n",
    "            for block in range(len(channels)-1)]\n",
    "            )\n",
    "        self.dec_blocks = nn.ModuleList([\n",
    "            CNNBlock(channels[block], channels[block+1], kernel_size, padding, bias,\n",
    "                     batch_norm=batch_norm)\n",
    "             for block in range(len(channels)-1)]\n",
    "             )\n",
    "\n",
    "    def forward(self, x, x_skips):\n",
    "        for i in range(len(x_skips)):\n",
    "            x = self.upconvs[i](x)\n",
    "            x = torch.cat((x, x_skips[-(1+i)]), dim=1)\n",
    "            x = self.dec_blocks[i](x)\n",
    "\n",
    "        x = self.dec_blocks[-1](x)\n",
    "        return x\n",
    "\n",
    "class CNN(nn.Module):\n",
    "    def __init__(self, node_features, out_dim=1, n_downsamples=3, initial_hid_dim=64, batch_norm=True,\n",
    "                 bias=True):\n",
    "        super(CNN, self).__init__()\n",
    "        hidden_channels = [initial_hid_dim*2**i for i in range(n_downsamples)]\n",
    "        encoder_channels = [node_features]+hidden_channels\n",
    "        decoder_channels = list(reversed(hidden_channels))+[out_dim]\n",
    "\n",
    "        self.encoder = Encoder(encoder_channels, kernel_size=3, padding=1,\n",
    "                               bias=bias, batch_norm=batch_norm)\n",
    "        self.decoder = Decoder(decoder_channels, kernel_size=3, padding=1,\n",
    "                               bias=bias, batch_norm=batch_norm)\n",
    "\n",
    "    def forward(self, x):\n",
    "        x = self.encoder(x)\n",
    "        x = self.decoder(x[-1], x[:-1])\n",
    "        x = nn.Sigmoid()(x)\n",
    "        return x\n",
    "    \n",
    "node_features = 2\n",
    "model = CNN(node_features=node_features, n_downsamples=4, initial_hid_dim=32,\n",
    "            batch_norm=True, bias=True)"
   ]
  },
  {
   "cell_type": "code",
   "execution_count": 11,
   "id": "d8abceff",
   "metadata": {},
   "outputs": [
    {
     "data": {
      "text/plain": [
       "<All keys matched successfully>"
      ]
     },
     "execution_count": 11,
     "metadata": {},
     "output_type": "execute_result"
    }
   ],
   "source": [
    "model.load_state_dict(torch.load(pre_trained_model, map_location=torch.device(device)))"
   ]
  },
  {
   "cell_type": "markdown",
   "id": "a8211ff6",
   "metadata": {},
   "source": [
    "# Get losses"
   ]
  },
  {
   "cell_type": "code",
   "execution_count": 12,
   "id": "6a0c2fc6",
   "metadata": {},
   "outputs": [],
   "source": [
    "def get_errors(model, loader, batch_size, device='cpu'):\n",
    "    model.to(device)\n",
    "    model.eval() # specifies that the model is in evaluation mode\n",
    "\n",
    "    losses = []\n",
    "\n",
    "    with torch.no_grad():\n",
    "        for batch in loader:\n",
    "            \n",
    "            x = batch['Input']\n",
    "            x = x.to(device)\n",
    "\n",
    "            # Model prediction\n",
    "            timesteps = np.arange(1, normalized_train_dataset[0]['WD'].shape[0], 2)\n",
    "            for timestep in timesteps:\n",
    "                y = batch['WD'][:, timestep]\n",
    "                y = y.reshape(batch_size, 1, 64, 64)\n",
    "                y = y.to(device)\n",
    "\n",
    "                preds = model(x)\n",
    "\n",
    "                # MSE loss function\n",
    "                loss = nn.MSELoss()(preds, y)\n",
    "\n",
    "                losses.append(loss.cpu().detach())\n",
    "\n",
    "                x = torch.cat((x[:,:1], preds.detach()),1)\n",
    "\n",
    "    losses = np.array(losses)\n",
    "\n",
    "    return losses"
   ]
  },
  {
   "cell_type": "code",
   "execution_count": 13,
   "id": "954ac64f",
   "metadata": {},
   "outputs": [],
   "source": [
    "batch_size = 1\n",
    "train_loader = DataLoader(normalized_train_dataset, batch_size=batch_size, shuffle=False)\n",
    "test_loader = DataLoader(normalized_test_dataset, batch_size=batch_size, shuffle=False)\n",
    "test2_loader = DataLoader(normalized_test2_dataset, batch_size=batch_size, shuffle=False)"
   ]
  },
  {
   "cell_type": "code",
   "execution_count": 14,
   "id": "77ec7d50",
   "metadata": {},
   "outputs": [],
   "source": [
    "# Model validation\n",
    "train_loss = get_errors(model, train_loader, batch_size=batch_size, device=device)\n",
    "test_loss = get_errors(model, test_loader, batch_size=batch_size, device=device)\n",
    "test2_loss = get_errors(model, test2_loader, batch_size=batch_size, device=device)"
   ]
  },
  {
   "cell_type": "markdown",
   "id": "4988e69d",
   "metadata": {},
   "source": [
    "# Visualize errors"
   ]
  },
  {
   "cell_type": "code",
   "execution_count": 15,
   "id": "be1d25cf",
   "metadata": {},
   "outputs": [
    {
     "data": {
      "image/png": "[encoded data removed]",
      "text/plain": [
       "<Figure size 1500x500 with 3 Axes>"
      ]
     },
     "metadata": {},
     "output_type": "display_data"
    }
   ],
   "source": [
    "plt.figure(figsize=(15,5))\n",
    "\n",
    "plt.subplot(131)\n",
    "plt.hist(train_loss, bins=20, edgecolor='black')\n",
    "plt.title('Errors for training dataset')\n",
    "plt.xlabel('Errors')\n",
    "plt.ylabel('Frequency')\n",
    "plt.xlim(0.000, 0.018)\n",
    "#plt.ylim(0, 20)\n",
    "\n",
    "plt.subplot(132)\n",
    "plt.hist(test_loss, bins=20, edgecolor='black')\n",
    "plt.title('Errors for testing dataset 1')\n",
    "plt.xlabel('Errors')\n",
    "plt.ylabel('Frequency')\n",
    "plt.xlim(0.000, 0.018)\n",
    "#plt.ylim(0, 20)\n",
    "\n",
    "plt.subplot(133)\n",
    "plt.hist(test2_loss, bins=20, edgecolor='black')\n",
    "plt.title('Errors for testing dataset 2')\n",
    "plt.xlabel('Errors')\n",
    "plt.ylabel('Frequency')\n",
    "plt.xlim(0.000, 0.018);\n",
    "#plt.ylim(0, 20)"
   ]
  },
  {
   "cell_type": "markdown",
   "id": "e9f2d340",
   "metadata": {},
   "source": [
    "# Visualize"
   ]
  },
  {
   "cell_type": "code",
   "execution_count": 16,
   "id": "9c4b7bfd",
   "metadata": {},
   "outputs": [
    {
     "data": {
      "application/vnd.jupyter.widget-view+json": {
       "model_id": "30cc6de69ac141c4b3fc8f3ac4d6b679",
       "version_major": 2,
       "version_minor": 0
      },
      "text/plain": [
       "interactive(children=(IntSlider(value=2, description='w', max=96, min=2, step=2), Dropdown(description='s', op…"
      ]
     },
     "metadata": {},
     "output_type": "display_data"
    }
   ],
   "source": [
    "def update(w, s):\n",
    "    '''\n",
    "    Function that creates an interactive plot for the four variables\n",
    "    w: Timestep\n",
    "    s: Sample\n",
    "\n",
    "    '''\n",
    "    w_pred = int(w/2 - 1)\n",
    "\n",
    "    fig, axs = plt.subplots(1, 4, figsize=(17,5))\n",
    "\n",
    "    x = normalized_train_dataset[s]['Input'].reshape(1, 2, 64, 64)\n",
    "    x = x.to(device)\n",
    "    WD = normalized_train_dataset[s]['WD'][w-1,:,:]\n",
    "\n",
    "    DEM = x[:,0].cpu()\n",
    "\n",
    "    # predict the WD\n",
    "    pred_WD = model(x).detach()\n",
    "    x[:,1] = pred_WD[:,0]\n",
    "    for i in range(int(normalized_train_dataset[s]['WD'].shape[0]/2)-1):\n",
    "    #for i in range(normalized_test_dataset[s]['WD'].shape[0]):\n",
    "        pred_WD_new = model(x).detach()\n",
    "        x = torch.cat((x[:,:1], pred_WD_new),1)\n",
    "        pred_WD = torch.cat((pred_WD, pred_WD_new), 1)\n",
    "\n",
    "    # show_x = x.reshape(64,64)\n",
    "    WD = WD.reshape(64,64).cpu()\n",
    "\n",
    "    pred_last_WD = pred_WD[:,w_pred,:,:]\n",
    "    show_pred_WD = pred_last_WD.reshape(64,64).cpu()\n",
    "\n",
    "    diff_FAT = WD - show_pred_WD\n",
    "    max_FAT = max(show_pred_WD.max(), WD.max())\n",
    "    max_diff = max(diff_FAT.max(), -diff_FAT.min())\n",
    "\n",
    "    axs[0].imshow(DEM.squeeze(), cmap='terrain', origin='lower')\n",
    "    axs[1].imshow(WD, vmin = 0, vmax=max_FAT, cmap='Blues_r', origin='lower')\n",
    "    axs[2].imshow(show_pred_WD, vmin = 0, vmax=max_FAT, cmap='Blues_r', origin='lower')\n",
    "    axs[3].imshow(diff_FAT, vmin =-max_diff, vmax=max_diff, cmap='RdBu', origin='lower')\n",
    "    plt.colorbar(plt.cm.ScalarMappable(norm=plt.Normalize(vmin = DEM.min(), vmax=DEM.max()),\n",
    "                                cmap='terrain'), fraction=0.05, shrink=0.9, ax=axs[0])\n",
    "    plt.colorbar(plt.cm.ScalarMappable(norm=plt.Normalize(vmin = 0, vmax=max_FAT),\n",
    "                                cmap='Blues_r'), fraction=0.05, shrink=0.9, ax=axs[1])\n",
    "    plt.colorbar(plt.cm.ScalarMappable(norm=plt.Normalize(vmin = 0, vmax=max_FAT),\n",
    "                                cmap='Blues_r'), fraction=0.05, shrink=0.9, ax=axs[2])\n",
    "    plt.colorbar(plt.cm.ScalarMappable(norm=TwoSlopeNorm(vmin=-max_diff, vmax=max_diff, vcenter=0),\n",
    "                                cmap='RdBu'), fraction=0.05, shrink=0.9, ax=axs[3])\n",
    "\n",
    "    for ax in axs:\n",
    "        ax.axis('off')\n",
    "\n",
    "    axs[0].set_title('DEM')\n",
    "    axs[1].set_title(f'WD target, t={w}')\n",
    "    axs[2].set_title(f'WD prediction t={w}')\n",
    "    axs[3].set_title(f'WD difference, t={w}')\n",
    "    plt.tight_layout()\n",
    "    plt.show()\n",
    "\n",
    "interact(update, w=widgets.IntSlider(min=2, max=96, step=2, value=0), s=np.arange(0, 20));"
   ]
  },
  {
   "cell_type": "code",
   "execution_count": 17,
   "id": "c98ac898",
   "metadata": {},
   "outputs": [
    {
     "data": {
      "application/vnd.jupyter.widget-view+json": {
       "model_id": "9a578116b02649a0a1e41b0a6271d7a5",
       "version_major": 2,
       "version_minor": 0
      },
      "text/plain": [
       "interactive(children=(IntSlider(value=2, description='w', max=96, min=2, step=2), Dropdown(description='s', op…"
      ]
     },
     "metadata": {},
     "output_type": "display_data"
    }
   ],
   "source": [
    "def update(w, s):\n",
    "    '''\n",
    "    Function that creates an interactive plot for the four variables\n",
    "    w: Timestep\n",
    "    s: Sample\n",
    "\n",
    "    '''\n",
    "    w_pred = int(w/2 - 1)\n",
    "\n",
    "    fig, axs = plt.subplots(1, 4, figsize=(17,5))\n",
    "\n",
    "    x = normalized_test_dataset[s]['Input'].reshape(1, 2, 64, 64)\n",
    "    x = x.to(device)\n",
    "    WD = normalized_test_dataset[s]['WD'][w-1,:,:]\n",
    "\n",
    "    DEM = x[:,0].cpu()\n",
    "\n",
    "    # predict the WD\n",
    "    pred_WD = model(x).detach()\n",
    "    x[:,1] = pred_WD[:,0]\n",
    "    for i in range(int(normalized_test_dataset[s]['WD'].shape[0]/2)-1):\n",
    "    #for i in range(normalized_test_dataset[s]['WD'].shape[0]):\n",
    "        pred_WD_new = model(x).detach()\n",
    "        x = torch.cat((x[:,:1], pred_WD_new),1)\n",
    "        pred_WD = torch.cat((pred_WD, pred_WD_new), 1)\n",
    "\n",
    "    # show_x = x.reshape(64,64)\n",
    "    WD = WD.reshape(64,64).cpu()\n",
    "\n",
    "    pred_last_WD = pred_WD[:,w_pred,:,:]\n",
    "    show_pred_WD = pred_last_WD.reshape(64,64).cpu()\n",
    "\n",
    "    diff_FAT = WD - show_pred_WD\n",
    "    max_FAT = max(show_pred_WD.max(), WD.max())\n",
    "    max_diff = max(diff_FAT.max(), -diff_FAT.min())\n",
    "\n",
    "    axs[0].imshow(DEM.squeeze(), cmap='terrain', origin='lower')\n",
    "    axs[1].imshow(WD, vmin = 0, vmax=max_FAT, cmap='Blues_r', origin='lower')\n",
    "    axs[2].imshow(show_pred_WD, vmin = 0, vmax=max_FAT, cmap='Blues_r', origin='lower')\n",
    "    axs[3].imshow(diff_FAT, vmin =-max_diff, vmax=max_diff, cmap='RdBu', origin='lower')\n",
    "    plt.colorbar(plt.cm.ScalarMappable(norm=plt.Normalize(vmin = DEM.min(), vmax=DEM.max()),\n",
    "                                cmap='terrain'), fraction=0.05, shrink=0.9, ax=axs[0])\n",
    "    plt.colorbar(plt.cm.ScalarMappable(norm=plt.Normalize(vmin = 0, vmax=max_FAT),\n",
    "                                cmap='Blues_r'), fraction=0.05, shrink=0.9, ax=axs[1])\n",
    "    plt.colorbar(plt.cm.ScalarMappable(norm=plt.Normalize(vmin = 0, vmax=max_FAT),\n",
    "                                cmap='Blues_r'), fraction=0.05, shrink=0.9, ax=axs[2])\n",
    "    plt.colorbar(plt.cm.ScalarMappable(norm=TwoSlopeNorm(vmin=-max_diff, vmax=max_diff, vcenter=0),\n",
    "                                cmap='RdBu'), fraction=0.05, shrink=0.9, ax=axs[3])\n",
    "\n",
    "    for ax in axs:\n",
    "        ax.axis('off')\n",
    "\n",
    "    axs[0].set_title('DEM')\n",
    "    axs[1].set_title(f'WD target, t={w}')\n",
    "    axs[2].set_title(f'WD prediction t={w}')\n",
    "    axs[3].set_title(f'WD difference, t={w}')\n",
    "    plt.tight_layout()\n",
    "    plt.show()\n",
    "\n",
    "interact(update, w=widgets.IntSlider(min=2, max=96, step=2, value=0), s=np.arange(0, 20));"
   ]
  },
  {
   "cell_type": "code",
   "execution_count": 18,
   "id": "3f2e13aa",
   "metadata": {},
   "outputs": [
    {
     "data": {
      "application/vnd.jupyter.widget-view+json": {
       "model_id": "8d49502ebf274f20ab0ad79890519f37",
       "version_major": 2,
       "version_minor": 0
      },
      "text/plain": [
       "interactive(children=(IntSlider(value=2, description='w', max=96, min=2, step=2), Dropdown(description='s', op…"
      ]
     },
     "metadata": {},
     "output_type": "display_data"
    }
   ],
   "source": [
    "def update(w, s):\n",
    "    '''\n",
    "    Function that creates an interactive plot for the four variables\n",
    "    w: Timestep\n",
    "    s: Sample\n",
    "\n",
    "    '''\n",
    "    w_pred = int(w/2 - 1)\n",
    "\n",
    "    fig, axs = plt.subplots(1, 4, figsize=(17,5))\n",
    "\n",
    "    x = normalized_test2_dataset[s]['Input'].reshape(1, 2, 64, 64)\n",
    "    x = x.to(device)\n",
    "    WD = normalized_test2_dataset[s]['WD'][w-1,:,:]\n",
    "\n",
    "    DEM = x[:,0].cpu()\n",
    "\n",
    "    # predict the WD\n",
    "    pred_WD = model(x).detach()\n",
    "    x[:,1] = pred_WD[:,0]\n",
    "    for i in range(int(normalized_test2_dataset[s]['WD'].shape[0]/2)-1):\n",
    "    #for i in range(normalized_test_dataset[s]['WD'].shape[0]):\n",
    "        pred_WD_new = model(x).detach()\n",
    "        x = torch.cat((x[:,:1], pred_WD_new),1)\n",
    "        pred_WD = torch.cat((pred_WD, pred_WD_new), 1)\n",
    "\n",
    "    # show_x = x.reshape(64,64)\n",
    "    WD = WD.reshape(64,64).cpu()\n",
    "\n",
    "    pred_last_WD = pred_WD[:,w_pred,:,:]\n",
    "    show_pred_WD = pred_last_WD.reshape(64,64).cpu()\n",
    "\n",
    "    diff_FAT = WD - show_pred_WD\n",
    "    max_FAT = max(show_pred_WD.max(), WD.max())\n",
    "    max_diff = max(diff_FAT.max(), -diff_FAT.min())\n",
    "\n",
    "    axs[0].imshow(DEM.squeeze(), cmap='terrain', origin='lower')\n",
    "    axs[1].imshow(WD, vmin = 0, vmax=max_FAT, cmap='Blues_r', origin='lower')\n",
    "    axs[2].imshow(show_pred_WD, vmin = 0, vmax=max_FAT, cmap='Blues_r', origin='lower')\n",
    "    axs[3].imshow(diff_FAT, vmin =-max_diff, vmax=max_diff, cmap='RdBu', origin='lower')\n",
    "    plt.colorbar(plt.cm.ScalarMappable(norm=plt.Normalize(vmin = DEM.min(), vmax=DEM.max()),\n",
    "                                cmap='terrain'), fraction=0.05, shrink=0.9, ax=axs[0])\n",
    "    plt.colorbar(plt.cm.ScalarMappable(norm=plt.Normalize(vmin = 0, vmax=max_FAT),\n",
    "                                cmap='Blues_r'), fraction=0.05, shrink=0.9, ax=axs[1])\n",
    "    plt.colorbar(plt.cm.ScalarMappable(norm=plt.Normalize(vmin = 0, vmax=max_FAT),\n",
    "                                cmap='Blues_r'), fraction=0.05, shrink=0.9, ax=axs[2])\n",
    "    plt.colorbar(plt.cm.ScalarMappable(norm=TwoSlopeNorm(vmin=-max_diff, vmax=max_diff, vcenter=0),\n",
    "                                cmap='RdBu'), fraction=0.05, shrink=0.9, ax=axs[3])\n",
    "\n",
    "    for ax in axs:\n",
    "        ax.axis('off')\n",
    "\n",
    "    axs[0].set_title('DEM')\n",
    "    axs[1].set_title(f'WD target, t={w}')\n",
    "    axs[2].set_title(f'WD prediction t={w}')\n",
    "    axs[3].set_title(f'WD difference, t={w}')\n",
    "    plt.tight_layout()\n",
    "    plt.show()\n",
    "\n",
    "interact(update, w=widgets.IntSlider(min=2, max=96, step=2, value=0), s=np.arange(0, 20));"
   ]
  },
  {
   "cell_type": "code",
   "execution_count": 19,
   "id": "0fad6ebd",
   "metadata": {},
   "outputs": [],
   "source": [
    "# select one sample\n",
    "data_id = 70\n",
    "x = normalized_train_dataset[data_id]['Input'].reshape(1, 2, 64, 64)\n",
    "\n",
    "pred_WD = model(x).detach()\n",
    "WD = normalized_train_dataset[data_id]['WD'][-1,:,:]\n",
    "pred_last_WD = pred_WD[:,-1,:,:]\n",
    "\n",
    "\n",
    "show_WD = WD.reshape(64,64)\n",
    "show_pred_WD = pred_last_WD.reshape(64,64)\n",
    "\n",
    "number_grids = 64"
   ]
  },
  {
   "cell_type": "code",
   "execution_count": 20,
   "id": "850f7c05",
   "metadata": {},
   "outputs": [
    {
     "data": {
      "image/png": "[encoded data removed]",
      "text/plain": [
       "<Figure size 1000x500 with 2 Axes>"
      ]
     },
     "metadata": {},
     "output_type": "display_data"
    }
   ],
   "source": [
    "fig, axs = plt.subplots(1, 2, figsize=(10, 5))\n",
    "\n",
    "axs[0].imshow(show_WD.reshape(number_grids,number_grids), cmap='Blues_r', origin='lower')\n",
    "axs[0].set_title('WD target')\n",
    "\n",
    "axs[1].imshow(show_pred_WD.reshape(number_grids,number_grids), cmap='Blues_r', origin='lower')\n",
    "axs[1].set_title('WD prediction')\n",
    "plt.show()"
   ]
  },
  {
   "cell_type": "code",
   "execution_count": null,
   "id": "627dc1e7",
   "metadata": {},
   "outputs": [],
   "source": []
  }
 ],
 "metadata": {
  "kernelspec": {
   "display_name": "Python 3 (ipykernel)",
   "language": "python",
   "name": "python3"
  },
  "language_info": {
   "codemirror_mode": {
    "name": "ipython",
    "version": 3
   },
   "file_extension": ".py",
   "mimetype": "text/x-python",
   "name": "python",
   "nbconvert_exporter": "python",
   "pygments_lexer": "ipython3",
   "version": "3.9.17"
  }
 },
 "nbformat": 4,
 "nbformat_minor": 5
}
