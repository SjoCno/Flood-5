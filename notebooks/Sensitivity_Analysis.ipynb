{
  "nbformat": 4,
  "nbformat_minor": 0,
  "metadata": {
    "colab": {
      "provenance": []
    },
    "kernelspec": {
      "name": "python3",
      "display_name": "Python 3"
    },
    "language_info": {
      "name": "python"
    }
  },
  "cells": [
    {
      "cell_type": "code",
      "execution_count": 2,
      "metadata": {
        "id": "Jwke3nrG05FW"
      },
      "outputs": [],
      "source": [
        "## Useful libraries\n",
        "import matplotlib.pyplot as plt\n",
        "import numpy as np\n",
        "import torch\n",
        "import torch.nn as nn\n",
        "import os\n",
        "import copy\n",
        "import pickle\n",
        "import pandas as pd\n",
        "from urllib.request import urlretrieve\n",
        "from torch.utils.data import DataLoader\n",
        "from torch.utils.data.dataset import random_split\n",
        "from sklearn.preprocessing import MinMaxScaler\n",
        "from matplotlib.colors import TwoSlopeNorm\n",
        "from ipywidgets import interact, interactive, fixed, interact_manual\n",
        "import ipywidgets as widgets\n",
        "\n",
        "# Additional input\n",
        "from tqdm import tqdm\n",
        "\n",
        "# use GPU\n",
        "device = torch.device('cuda' if torch.cuda.is_available() else 'cpu')"
      ]
    },
    {
      "cell_type": "markdown",
      "source": [
        "# Sensitivity Analysis\n",
        "\n",
        "For doing sensitivity analysis, we need the following things:\n",
        "- model (so essetially all of the modules that goes within)\n",
        "- hyperparameters\n",
        "- training datasets and validation dataset because we calculate loss with it\n"
      ],
      "metadata": {
        "id": "I7Jbk_8Y1Suv"
      }
    },
    {
      "cell_type": "code",
      "source": [
        "# load the training and testing dataset\n",
        "train_url = \"https://www.dropbox.com/scl/fi/krwlidaz5na0ci3mew6lr/grid.pkl?rlkey=0ie6h9bsb89g97razt0w3u82w&dl=1\"\n",
        "test_url = \"https://www.dropbox.com/scl/fi/c99vir9uqrs6glphl0ygl/test.pkl?rlkey=zoui7rau3bwwm5fgb2dd9ce8g&dl=1\"\n",
        "\n",
        "# retrieve data from url\n",
        "if not os.path.isfile(datasets_folder):\n",
        "    print(\"Downloading the pickled dataset...\")\n",
        "    train_path = os.path.join(datasets_folder, \"grid.pkl\")\n",
        "    urlretrieve(train_url, train_path)\n",
        "\n",
        "with open(train_path, 'rb') as f:\n",
        "    train_dataset = pickle.load(f)"
      ],
      "metadata": {
        "colab": {
          "base_uri": "https://localhost:8080/",
          "height": 245
        },
        "id": "2Ezr1lIf1KUV",
        "outputId": "e3d27aad-42af-418d-dedb-96bfc73dc59a"
      },
      "execution_count": 3,
      "outputs": [
        {
          "output_type": "error",
          "ename": "NameError",
          "evalue": "name 'datasets_folder' is not defined",
          "traceback": [
            "\u001b[0;31m---------------------------------------------------------------------------\u001b[0m",
            "\u001b[0;31mNameError\u001b[0m                                 Traceback (most recent call last)",
            "\u001b[0;32m<ipython-input-3-3c31d5788620>\u001b[0m in \u001b[0;36m<cell line: 6>\u001b[0;34m()\u001b[0m\n\u001b[1;32m      4\u001b[0m \u001b[0;34m\u001b[0m\u001b[0m\n\u001b[1;32m      5\u001b[0m \u001b[0;31m# retrieve data from url\u001b[0m\u001b[0;34m\u001b[0m\u001b[0;34m\u001b[0m\u001b[0m\n\u001b[0;32m----> 6\u001b[0;31m \u001b[0;32mif\u001b[0m \u001b[0;32mnot\u001b[0m \u001b[0mos\u001b[0m\u001b[0;34m.\u001b[0m\u001b[0mpath\u001b[0m\u001b[0;34m.\u001b[0m\u001b[0misfile\u001b[0m\u001b[0;34m(\u001b[0m\u001b[0mdatasets_folder\u001b[0m\u001b[0;34m)\u001b[0m\u001b[0;34m:\u001b[0m\u001b[0;34m\u001b[0m\u001b[0;34m\u001b[0m\u001b[0m\n\u001b[0m\u001b[1;32m      7\u001b[0m     \u001b[0mprint\u001b[0m\u001b[0;34m(\u001b[0m\u001b[0;34m\"Downloading the pickled dataset...\"\u001b[0m\u001b[0;34m)\u001b[0m\u001b[0;34m\u001b[0m\u001b[0;34m\u001b[0m\u001b[0m\n\u001b[1;32m      8\u001b[0m     \u001b[0mtrain_path\u001b[0m \u001b[0;34m=\u001b[0m \u001b[0mos\u001b[0m\u001b[0;34m.\u001b[0m\u001b[0mpath\u001b[0m\u001b[0;34m.\u001b[0m\u001b[0mjoin\u001b[0m\u001b[0;34m(\u001b[0m\u001b[0mdatasets_folder\u001b[0m\u001b[0;34m,\u001b[0m \u001b[0;34m\"grid.pkl\"\u001b[0m\u001b[0;34m)\u001b[0m\u001b[0;34m\u001b[0m\u001b[0;34m\u001b[0m\u001b[0m\n",
            "\u001b[0;31mNameError\u001b[0m: name 'datasets_folder' is not defined"
          ]
        }
      ]
    }
  ]
}